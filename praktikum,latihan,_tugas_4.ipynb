{
  "nbformat": 4,
  "nbformat_minor": 0,
  "metadata": {
    "colab": {
      "provenance": [],
      "authorship_tag": "ABX9TyOsyC6UzDmCDoMWJc7sDYS6",
      "include_colab_link": true
    },
    "kernelspec": {
      "name": "python3",
      "display_name": "Python 3"
    },
    "language_info": {
      "name": "python"
    }
  },
  "cells": [
    {
      "cell_type": "markdown",
      "metadata": {
        "id": "view-in-github",
        "colab_type": "text"
      },
      "source": [
        "<a href=\"https://colab.research.google.com/github/pizzianakbaik/pemograman-dasar/blob/main/praktikum%2Clatihan%2C_tugas_4.ipynb\" target=\"_parent\"><img src=\"https://colab.research.google.com/assets/colab-badge.svg\" alt=\"Open In Colab\"/></a>"
      ]
    },
    {
      "cell_type": "code",
      "execution_count": null,
      "metadata": {
        "colab": {
          "base_uri": "https://localhost:8080/"
        },
        "id": "HC8rCgFuVBlj",
        "outputId": "f4d5e58f-4c3b-4044-c769-9da8c7ca5caa"
      },
      "outputs": [
        {
          "output_type": "stream",
          "name": "stdout",
          "text": [
            "Pengunjung adalah orang dewasa.\n"
          ]
        }
      ],
      "source": [
        "# if (percabangan tunggal) 1 a\n",
        "# Variabel untuk menyimpan umur pengunjung\n",
        "umur = 20\n",
        "\n",
        "# Program hanya akan mencetak pesan jika umur di atas 17\n",
        "if umur > 17:\n",
        "    print(\"Pengunjung adalah orang dewasa.\")"
      ]
    },
    {
      "cell_type": "code",
      "source": [
        "# if (percabangan tunggal) 2 a\n",
        "# Meminta input dari pengguna\n",
        "username = input(\"Masukkan username: \")\n",
        "password = input(\"Masukkan password: \")\n",
        "\n",
        "# Mengecek apakah username dan password benar\n",
        "if username == \"pizzi\" and password == \"1234\":\n",
        "    print(\"Login berhasil\")\n",
        "else:\n",
        "    print(\"Login gagal\")"
      ],
      "metadata": {
        "colab": {
          "base_uri": "https://localhost:8080/"
        },
        "id": "xJOKGt4wXn4_",
        "outputId": "64affca7-4b39-4340-a153-5091c3c2d6e2"
      },
      "execution_count": null,
      "outputs": [
        {
          "output_type": "stream",
          "name": "stdout",
          "text": [
            "Masukkan username: pizzi\n",
            "Masukkan password: 1234\n",
            "Login berhasil\n"
          ]
        }
      ]
    },
    {
      "cell_type": "code",
      "source": [
        "# if (percabangan tunggal) 2 b\n",
        "# Meminta input dari pengguna\n",
        "username = input(\"Masukkan username: \")\n",
        "password = input(\"Masukkan password: \")\n",
        "\n",
        "# Mengecek apakah username dan password benar\n",
        "if username == \"pizzi\" and password == \"1234\":\n",
        "    print(\"Login berhasil\")\n",
        "else:\n",
        "    print(\"Login gagal\")"
      ],
      "metadata": {
        "colab": {
          "base_uri": "https://localhost:8080/"
        },
        "id": "WigrBIoWX66M",
        "outputId": "e32e4046-9c93-467d-bbdd-d96c1bfe2a4e"
      },
      "execution_count": null,
      "outputs": [
        {
          "output_type": "stream",
          "name": "stdout",
          "text": [
            "Masukkan username: budi\n",
            "Masukkan password: 5678\n",
            "Login gagal\n"
          ]
        }
      ]
    },
    {
      "cell_type": "code",
      "source": [
        "# if (percabangan tunggal) 3\n",
        "# program untuk mengecek bonus dan diskon\n",
        "\n",
        "# input total belanja dari user\n",
        "total_belanja = int(input(\"Total belanja: Rp \"))\n",
        "# jumlah yang harus dibayar awalnya sama dengan total belanja\n",
        "bayar = total_belanja\n",
        "# jika belanja lebih dari 100 ribu, berikan bonus dan diskon\n",
        "if total_belanja > 100000:\n",
        "    print(\"Selamat Karena Belanja > Rp. 100.000 anda mendapat Voucher Makan\")\n",
        "    print(\"dan diskon 5%\")\n",
        "\n",
        "    # hitung diskonnya\n",
        "    diskon = total_belanja * 5 / 100\n",
        "    bayar = total_belanja - diskon\n",
        "\n",
        "# cetak struk pembayaran\n",
        "print(\"Total yang harus dibayar: Rp %s\" % bayar)\n",
        "print(\"Terima kasih sudah berbelanja di Toko Kami\")\n",
        "print(\"Kami Tunggu kunjungan anda selanjutnya.\")"
      ],
      "metadata": {
        "colab": {
          "base_uri": "https://localhost:8080/"
        },
        "id": "-xEVp7PVYIpJ",
        "outputId": "a705e850-e18e-4fc5-9a9c-2160137c9b5f"
      },
      "execution_count": null,
      "outputs": [
        {
          "output_type": "stream",
          "name": "stdout",
          "text": [
            "Total belanja: Rp 110000\n",
            "Selamat Karena Belanja > Rp. 100.000 anda mendapat Voucher Makan\n",
            "dan diskon 5%\n",
            "Total yang harus dibayar: Rp 104500.0\n",
            "Terima kasih sudah berbelanja di Toko Kami\n",
            "Kami Tunggu kunjungan anda selanjutnya.\n"
          ]
        }
      ]
    },
    {
      "cell_type": "code",
      "source": [
        "# if (percabangan tunggal) 4\n",
        "# Variabel untuk memeriksa apakah ada notifikasi baru\n",
        "ada_notifikasi_baru: bool = True\n",
        "\n",
        "# cek kondisi\n",
        "if ada_notifikasi_baru:\n",
        "    print(\"Anda memiliki pesan baru!\")"
      ],
      "metadata": {
        "colab": {
          "base_uri": "https://localhost:8080/"
        },
        "id": "SVFTOe6HZCfK",
        "outputId": "f5561a95-bcbd-4275-beb7-a0c9a5b3ccf8"
      },
      "execution_count": null,
      "outputs": [
        {
          "output_type": "stream",
          "name": "stdout",
          "text": [
            "Anda memiliki pesan baru!\n"
          ]
        }
      ]
    },
    {
      "cell_type": "code",
      "source": [
        "# If else 1 a\n",
        "# Program untuk mengecek umur\n",
        "umur = int(input(\"Berapa umur kamu: \"))\n",
        "\n",
        "if umur >= 18:\n",
        "    print(\"Kamu boleh membuat SIM\")\n",
        "else:\n",
        "    print(\"Kamu belum boleh membuat SIM\")"
      ],
      "metadata": {
        "colab": {
          "base_uri": "https://localhost:8080/"
        },
        "id": "rDqjYrbgbCzI",
        "outputId": "c396eebe-d9a7-4f3e-9ed5-faaa49d087ab"
      },
      "execution_count": null,
      "outputs": [
        {
          "output_type": "stream",
          "name": "stdout",
          "text": [
            "Berapa umur kamu: 19\n",
            "Kamu boleh membuat SIM\n"
          ]
        }
      ]
    },
    {
      "cell_type": "code",
      "source": [
        "# If else 1 b\n",
        "# Program untuk mengecek umur\n",
        "umur = int(input(\"Berapa umur kamu: \"))\n",
        "\n",
        "if umur >= 18:\n",
        "    print(\"Kamu boleh membuat SIM\")\n",
        "else:\n",
        "    print(\"Kamu belum boleh membuat SIM\")"
      ],
      "metadata": {
        "colab": {
          "base_uri": "https://localhost:8080/"
        },
        "id": "shQSwuxkbJk5",
        "outputId": "5a077f3f-39a2-41b5-eeee-695ba076f8a8"
      },
      "execution_count": null,
      "outputs": [
        {
          "output_type": "stream",
          "name": "stdout",
          "text": [
            "Berapa umur kamu: 17\n",
            "Kamu belum boleh membuat SIM\n"
          ]
        }
      ]
    },
    {
      "cell_type": "code",
      "source": [
        "# If else 2 a\n",
        "# Program untuk menghitung total belanja dengan diskon\n",
        "total_belanja = int(input(\"Masukkan total belanja: Rp \"))\n",
        "\n",
        "if total_belanja > 200000:\n",
        "    diskon = total_belanja * 0.10   # diskon 10%\n",
        "    total_bayar = total_belanja - diskon\n",
        "    print(f\"Anda mendapat diskon! Total bayar: Rp {total_bayar}\")\n",
        "else:\n",
        "    print(f\"Total bayar: Rp {total_belanja}\")"
      ],
      "metadata": {
        "colab": {
          "base_uri": "https://localhost:8080/"
        },
        "id": "SoX4AQODbhHr",
        "outputId": "60991fc6-e992-4bb5-f4ac-d430dc4c528a"
      },
      "execution_count": null,
      "outputs": [
        {
          "output_type": "stream",
          "name": "stdout",
          "text": [
            "Masukkan total belanja: Rp 250000\n",
            "Anda mendapat diskon! Total bayar: Rp 225000.0\n"
          ]
        }
      ]
    },
    {
      "cell_type": "code",
      "source": [
        "# If else 2 b\n",
        "# Program untuk menghitung total belanja dengan diskon\n",
        "total_belanja = int(input(\"Masukkan total belanja: Rp \"))\n",
        "\n",
        "if total_belanja > 200000:\n",
        "    diskon = total_belanja * 0.10   # diskon 10%\n",
        "    total_bayar = total_belanja - diskon\n",
        "    print(f\"Anda mendapat diskon! Total bayar: Rp {total_bayar}\")\n",
        "else:\n",
        "    print(f\"Total bayar: Rp {total_belanja}\")"
      ],
      "metadata": {
        "colab": {
          "base_uri": "https://localhost:8080/"
        },
        "id": "MGEYblRLbwxj",
        "outputId": "2cb19bcd-cd41-43b9-f076-db356dee7e03"
      },
      "execution_count": null,
      "outputs": [
        {
          "output_type": "stream",
          "name": "stdout",
          "text": [
            "Masukkan total belanja: Rp 180000\n",
            "Total bayar: Rp 180000\n"
          ]
        }
      ]
    },
    {
      "cell_type": "code",
      "source": [
        "# If else 3 a\n",
        "# Program untuk mengecek bilangan genap atau ganjil\n",
        "\n",
        "angka = int(input(\"Masukkan bilangan: \"))\n",
        "if angka % 2 == 0:\n",
        "    print(\"Bilangan Genap\")\n",
        "else:\n",
        "    print(\"Bilangan Ganjil\")"
      ],
      "metadata": {
        "colab": {
          "base_uri": "https://localhost:8080/"
        },
        "id": "wfYIbnWMcPgu",
        "outputId": "1e804c54-068a-4e61-9331-72817cbb96c7"
      },
      "execution_count": null,
      "outputs": [
        {
          "output_type": "stream",
          "name": "stdout",
          "text": [
            "Masukkan bilangan: 10\n",
            "Bilangan Genap\n"
          ]
        }
      ]
    },
    {
      "cell_type": "code",
      "source": [
        "# If else 3 b\n",
        "# Program untuk mengecek bilangan genap atau ganjil\n",
        "\n",
        "angka = int(input(\"Masukkan bilangan: \"))\n",
        "if angka % 2 == 0:\n",
        "    print(\"Bilangan Genap\")\n",
        "else:\n",
        "    print(\"Bilangan Ganjil\")"
      ],
      "metadata": {
        "colab": {
          "base_uri": "https://localhost:8080/"
        },
        "id": "oQN_oKOFcWPg",
        "outputId": "a787b91f-1b27-4cd3-a03c-e06ba0226c40"
      },
      "execution_count": null,
      "outputs": [
        {
          "output_type": "stream",
          "name": "stdout",
          "text": [
            "Masukkan bilangan: 7\n",
            "Bilangan Ganjil\n"
          ]
        }
      ]
    },
    {
      "cell_type": "code",
      "source": [
        "# If  elif else 1 a\n",
        "# Program untuk menentukan nilai berdasarkan skor\n",
        "nilai = int(input(\"Masukkan nilai kamu: \"))\n",
        "\n",
        "if nilai >= 85:\n",
        "    print(\"Luar biasa! Nilai A\")\n",
        "elif nilai >= 70:\n",
        "    print(\"Bagus! Nilai B\")\n",
        "elif nilai >= 60:\n",
        "    print(\"Cukup. Nilai C\")\n",
        "else:\n",
        "    print(\"Nilai kurang, perlu belajar lebih giat.\")"
      ],
      "metadata": {
        "colab": {
          "base_uri": "https://localhost:8080/"
        },
        "id": "LL_vnF2HrCrU",
        "outputId": "2815f93d-71cb-49c3-9873-57fba4bbdfaa"
      },
      "execution_count": null,
      "outputs": [
        {
          "output_type": "stream",
          "name": "stdout",
          "text": [
            "Masukkan nilai kamu: 50\n",
            "Nilai kurang, perlu belajar lebih giat.\n"
          ]
        }
      ]
    },
    {
      "cell_type": "code",
      "source": [
        "# If  elif else 1 b\n",
        "# Program untuk menentukan nilai berdasarkan skor\n",
        "nilai = int(input(\"Masukkan nilai kamu: \"))\n",
        "\n",
        "if nilai >= 85:\n",
        "    print(\"Luar biasa! Nilai A\")\n",
        "elif nilai >= 70:\n",
        "    print(\"Bagus! Nilai B\")\n",
        "elif nilai >= 60:\n",
        "    print(\"Cukup. Nilai C\")\n",
        "else:\n",
        "    print(\"Nilai kurang, perlu belajar lebih giat.\")"
      ],
      "metadata": {
        "colab": {
          "base_uri": "https://localhost:8080/"
        },
        "id": "loQ13T5mrSMt",
        "outputId": "65e6fb5f-83e9-478a-affd-46a3bfeaf5e9"
      },
      "execution_count": null,
      "outputs": [
        {
          "output_type": "stream",
          "name": "stdout",
          "text": [
            "Masukkan nilai kamu: 85\n",
            "Luar biasa! Nilai A\n"
          ]
        }
      ]
    },
    {
      "cell_type": "code",
      "source": [
        "# If  elif else 2\n",
        "# Program untuk menentukan jenis diskon berdasarkan hari\n",
        "hari = input(\"Masukkan hari: \")\n",
        "\n",
        "if hari == \"Sabtu\" or hari == \"Minggu\":\n",
        "    diskon = 0.20   # Diskon 20%\n",
        "    print(f\"Selamat! Anda mendapat diskon akhir pekan sebesar {diskon*100}%.\")\n",
        "elif hari == \"Jumat\":\n",
        "    diskon = 0.15   # Diskon 15%\n",
        "    print(f\"Diskon spesial Jumat! Anda mendapat potongan {diskon*100}%.\")\n",
        "else:\n",
        "    diskon = 0.05   # Diskon 5%\n",
        "    print(f\"Anda mendapat diskon hari biasa sebesar {diskon*100}%.\")\n"
      ],
      "metadata": {
        "colab": {
          "base_uri": "https://localhost:8080/"
        },
        "id": "Ia7C0GpqriFi",
        "outputId": "4fc02133-a31a-47fd-da6d-feb7c16bc0f0"
      },
      "execution_count": null,
      "outputs": [
        {
          "output_type": "stream",
          "name": "stdout",
          "text": [
            "Masukkan hari: Minggu\n",
            "Selamat! Anda mendapat diskon akhir pekan sebesar 20.0%.\n"
          ]
        }
      ]
    },
    {
      "cell_type": "code",
      "source": [
        "# If  elif else 3\n",
        "# Program Konversi Mata Uang\n",
        "\n",
        "# Input jumlah uang dalam Rupiah\n",
        "rupiah = int(input(\"Masukkan jumlah uang (Rp): \"))\n",
        "\n",
        "# Pilihan konversi\n",
        "print(\"1. Dollar (USD)\")\n",
        "print(\"2. Euro (EUR)\")\n",
        "print(\"3. Yen (JPY)\")\n",
        "pilih = int(input(\"Pilih konversi (1/2/3): \"))\n",
        "\n",
        "# Proses konversi\n",
        "if pilih == 1:\n",
        "    print(\"Dalam Dollar:\", rupiah / 15000)\n",
        "elif pilih == 2:\n",
        "    print(\"Dalam Euro:\", rupiah / 16000)\n",
        "elif pilih == 3:\n",
        "    print(\"Dalam Yen:\", rupiah / 120)\n",
        "else:\n",
        "    print(\"Pilihan tidak valid\")"
      ],
      "metadata": {
        "colab": {
          "base_uri": "https://localhost:8080/"
        },
        "id": "8EafMlJQBydB",
        "outputId": "7390da12-599c-41b6-9aec-c02597381157"
      },
      "execution_count": null,
      "outputs": [
        {
          "output_type": "stream",
          "name": "stdout",
          "text": [
            "Masukkan jumlah uang (Rp): 50000\n",
            "1. Dollar (USD)\n",
            "2. Euro (EUR)\n",
            "3. Yen (JPY)\n",
            "Pilih konversi (1/2/3): 1\n",
            "Dalam Dollar: 3.3333333333333335\n"
          ]
        }
      ]
    },
    {
      "cell_type": "code",
      "source": [
        "# latihan 1 a\n",
        "angka = int(input(\"Masukkan sebuah angka: \"))\n",
        "\n",
        "if angka % 5 == 0:\n",
        "    print(\"Kelipatan 5\")\n",
        "else:\n",
        "    print(\"Bukan kelipatan 5\")\n"
      ],
      "metadata": {
        "colab": {
          "base_uri": "https://localhost:8080/"
        },
        "id": "0cSENwEo_iS0",
        "outputId": "5bc00471-da04-4a7c-c8f7-2493814e51f8"
      },
      "execution_count": null,
      "outputs": [
        {
          "output_type": "stream",
          "name": "stdout",
          "text": [
            "Masukkan sebuah angka: 20\n",
            "Kelipatan 5\n"
          ]
        }
      ]
    },
    {
      "cell_type": "code",
      "source": [
        "# latihan 1 b\n",
        "angka = int(input(\"Masukkan sebuah angka: \"))\n",
        "\n",
        "if angka % 5 == 0:\n",
        "    print(\"Kelipatan 5\")\n",
        "else:\n",
        "    print(\"Bukan kelipatan 5\")\n"
      ],
      "metadata": {
        "colab": {
          "base_uri": "https://localhost:8080/"
        },
        "id": "nMG0Z3cTAOuo",
        "outputId": "674d9a42-5f2a-4e3c-d6ff-275a763ccc22"
      },
      "execution_count": null,
      "outputs": [
        {
          "output_type": "stream",
          "name": "stdout",
          "text": [
            "Masukkan sebuah angka: 6\n",
            "Bukan kelipatan 5\n"
          ]
        }
      ]
    },
    {
      "cell_type": "code",
      "source": [
        "# latihan 2 a\n",
        "tahun = int(input(\"Masukkan tahun: \"))\n",
        "\n",
        "if tahun % 400 == 0:\n",
        "    print(\"Tahun Kabisat\")\n",
        "elif tahun % 4 == 0 and tahun % 100 != 0:\n",
        "    print(\"Tahun Kabisat\")\n",
        "else:\n",
        "    print(\"Bukan Tahun Kabisat\")"
      ],
      "metadata": {
        "colab": {
          "base_uri": "https://localhost:8080/"
        },
        "id": "BKmojpA5AZL4",
        "outputId": "b6aeeaee-7de8-4864-9f23-d1b939914cb8"
      },
      "execution_count": null,
      "outputs": [
        {
          "output_type": "stream",
          "name": "stdout",
          "text": [
            "Masukkan tahun: 100\n",
            "Bukan Tahun Kabisat\n"
          ]
        }
      ]
    },
    {
      "cell_type": "code",
      "source": [
        "# latihan 2 b\n",
        "tahun = int(input(\"Masukkan tahun: \"))\n",
        "\n",
        "if tahun % 400 == 0:\n",
        "    print(\"Tahun Kabisat\")\n",
        "elif tahun % 4 == 0 and tahun % 100 != 0:\n",
        "    print(\"Tahun Kabisat\")\n",
        "else:\n",
        "    print(\"Bukan Tahun Kabisat\")"
      ],
      "metadata": {
        "colab": {
          "base_uri": "https://localhost:8080/"
        },
        "id": "hE-18Hi_Ajnq",
        "outputId": "e8bf47b5-39b3-4be9-c898-aa46499e0a84"
      },
      "execution_count": null,
      "outputs": [
        {
          "output_type": "stream",
          "name": "stdout",
          "text": [
            "Masukkan tahun: 20\n",
            "Tahun Kabisat\n"
          ]
        }
      ]
    },
    {
      "cell_type": "code",
      "source": [
        "# latihan 3 a\n",
        "# Soal: 8 + 7 = ?\n",
        "jawaban = int(input(\"Berapakah hasil dari 8 + 7? \"))\n",
        "\n",
        "if jawaban == 15:\n",
        "    print(\"Jawaban benar!\")\n",
        "else:\n",
        "    print(\"Jawaban salah, yang benar adalah 15\")"
      ],
      "metadata": {
        "colab": {
          "base_uri": "https://localhost:8080/"
        },
        "id": "lqA61fakA4V-",
        "outputId": "68f9d92d-bd7b-48eb-8dca-2b7a3745b891"
      },
      "execution_count": null,
      "outputs": [
        {
          "output_type": "stream",
          "name": "stdout",
          "text": [
            "Berapakah hasil dari 8 + 7? 15\n",
            "Jawaban benar!\n"
          ]
        }
      ]
    },
    {
      "cell_type": "code",
      "source": [
        "# latihan 3 b\n",
        "# Soal: 2 + 9 = ?\n",
        "jawaban = int(input(\"Berapakah hasil dari 2 + 9? \"))\n",
        "\n",
        "if jawaban == 11:\n",
        "    print(\"Jawaban benar!\")\n",
        "else:\n",
        "    print(\"Jawaban salah, yang benar adalah 15\")"
      ],
      "metadata": {
        "colab": {
          "base_uri": "https://localhost:8080/"
        },
        "id": "h7A9jTCeBR68",
        "outputId": "ece9fce5-ed05-42d7-f14b-a96b64a0392c"
      },
      "execution_count": null,
      "outputs": [
        {
          "output_type": "stream",
          "name": "stdout",
          "text": [
            "Berapakah hasil dari 2 + 9? 10\n",
            "Jawaban salah, yang benar adalah 15\n"
          ]
        }
      ]
    },
    {
      "cell_type": "code",
      "source": [
        "# latihan 4\n",
        "bulan = int(input(\"Masukkan angka bulan (1-12): \"))\n",
        "if bulan == 1:\n",
        "    print(\"Januari\")\n",
        "elif bulan == 2:\n",
        "    print(\"Februari\")\n",
        "elif bulan == 3:\n",
        "    print(\"Maret\")\n",
        "elif bulan == 4:\n",
        "    print(\"April\")\n",
        "elif bulan == 5:\n",
        "    print(\"Mei\")\n",
        "elif bulan == 6:\n",
        "    print(\"Juni\")\n",
        "elif bulan == 7:\n",
        "    print(\"Juli\")\n",
        "elif bulan == 8:\n",
        "    print(\"Agustus\")\n",
        "elif bulan == 9:\n",
        "    print(\"September\")\n",
        "elif bulan == 10:\n",
        "    print(\"Oktober\")\n",
        "elif bulan == 11:\n",
        "    print(\"November\")\n",
        "elif bulan == 12:\n",
        "    print(\"Desember\")\n",
        "else:\n",
        "    print(\"Input salah\")"
      ],
      "metadata": {
        "colab": {
          "base_uri": "https://localhost:8080/"
        },
        "id": "S5BnRZIsBsux",
        "outputId": "e1cda56b-da6e-4731-803f-d621f85a7155"
      },
      "execution_count": null,
      "outputs": [
        {
          "output_type": "stream",
          "name": "stdout",
          "text": [
            "Masukkan angka bulan (1-12): 2\n",
            "Februari\n"
          ]
        }
      ]
    },
    {
      "cell_type": "code",
      "source": [
        "# latihan 5\n",
        "jam = int(input(\"Masukkan jam (0-23): \"))\n",
        "if 0 <= jam <= 11:\n",
        "    print(\"Selamat Pagi\")\n",
        "elif 12 <= jam <= 15:\n",
        "    print(\"Selamat Siang\")\n",
        "elif 16 <= jam <= 18:\n",
        "    print(\"Selamat Sore\")\n",
        "elif 19 <= jam <= 23:\n",
        "    print(\"Selamat Malam\")\n",
        "else:\n",
        "    print(\"Input salah\")\n"
      ],
      "metadata": {
        "colab": {
          "base_uri": "https://localhost:8080/"
        },
        "id": "0q2CYgLZB-b_",
        "outputId": "d8ca1fda-2d2a-4336-eaee-a0dfeb8b29fd"
      },
      "execution_count": null,
      "outputs": [
        {
          "output_type": "stream",
          "name": "stdout",
          "text": [
            "Masukkan jam (0-23): 13\n",
            "Selamat Siang\n"
          ]
        }
      ]
    },
    {
      "cell_type": "code",
      "source": [
        "# tugas\n",
        "print(\"=\"*30)\n",
        "print(\"SELAMAT DATANG DI KAFE GEMINI\")\n",
        "print(\"=\"*30)\n",
        "print(\"Menu Makanan & Minuman:\")\n",
        "print(\"1. Kopi Hitam   Rp 12.000\")\n",
        "print(\"2. Teh Panas    Rp 8.000\")\n",
        "print(\"3. Roti Bakar   Rp 15.000\")\n",
        "print(\"4. Mie Instan   Rp 10.000\")\n",
        "print(\"=\"*30)\n",
        "\n",
        "pilihan_str = input(\"Silakan masukkan nomor pilihan Anda (1-4): \")\n",
        "pilihan = int(pilihan_str)\n",
        "nama_pesanan = \"\"\n",
        "harga = 0\n",
        "if pilihan == 1:\n",
        "    nama_pesanan = \"Kopi Hitam\"\n",
        "    harga = 12000\n",
        "elif pilihan == 2:\n",
        "    nama_pesanan = \"Teh Panis\"\n",
        "    harga = 8000\n",
        "elif pilihan == 3:\n",
        "    nama_pesanan = \"Roti Bakar\"\n",
        "    harga = 15000\n",
        "elif pilihan == 4:\n",
        "    nama_pesanan = \"Mie Instan\"\n",
        "    harga = 10000\n",
        "else:\n",
        "    print(\"Maaf, pilihan menu tidak valid.\")\n",
        "    exit()\n",
        "\n",
        "print(f\"Anda memesan {nama_pesanan} dengan harga Rp {harga}\")\n",
        "\n",
        "# Tambahan: Diskon\n",
        "diskon = 0\n",
        "if harga >= 15000:\n",
        "    diskon = 0.7   # diskon 70%\n",
        "elif harga >= 10000:\n",
        "    diskon = 0.5   # diskon 50%\n",
        "else:\n",
        "    diskon = 0.3   # diskon 30%\n",
        "\n",
        "potongan = harga * diskon\n",
        "total_bayar = harga - potongan\n",
        "\n",
        "print(f\"Diskon: {int(diskon*100)}%\")\n",
        "print(f\"Potongan Harga: Rp {potongan}\")\n",
        "print(f\"Total yang harus dibayar: Rp {total_bayar}\")\n",
        "\n",
        "# Proses pembayaran\n",
        "uang_dibayar_str = input(\"Masukkan jumlah uang Anda: Rp \")\n",
        "uang_dibayar = int(uang_dibayar_str)\n",
        "\n",
        "if uang_dibayar >= total_bayar:\n",
        "    kembalian = uang_dibayar - total_bayar\n",
        "    print(f\"Uang yang Anda bayarkan: Rp {uang_dibayar}\")\n",
        "    print(f\"Kembalian: Rp {kembalian}\")\n",
        "    print(\"Terima kasih telah berbelanja!\")\n",
        "else:\n",
        "    kurang = total_bayar - uang_dibayar\n",
        "    print(f\"Uang Anda kurang sebesar Rp {kurang}\")"
      ],
      "metadata": {
        "colab": {
          "base_uri": "https://localhost:8080/"
        },
        "id": "WfxSiExlCUac",
        "outputId": "17c0c123-6851-4395-885b-9ca2aa1ff924"
      },
      "execution_count": null,
      "outputs": [
        {
          "output_type": "stream",
          "name": "stdout",
          "text": [
            "==============================\n",
            "SELAMAT DATANG DI KAFE GEMINI\n",
            "==============================\n",
            "Menu Makanan & Minuman:\n",
            "1. Kopi Hitam   Rp 12.000\n",
            "2. Teh Panas    Rp 8.000\n",
            "3. Roti Bakar   Rp 15.000\n",
            "4. Mie Instan   Rp 10.000\n",
            "==============================\n",
            "Silakan masukkan nomor pilihan Anda (1-4): 1\n",
            "Anda memesan Kopi Hitam dengan harga Rp 12000\n",
            "Diskon: 50%\n",
            "Potongan Harga: Rp 6000.0\n",
            "Total yang harus dibayar: Rp 6000.0\n",
            "Masukkan jumlah uang Anda: Rp 10000\n",
            "Uang yang Anda bayarkan: Rp 10000\n",
            "Kembalian: Rp 4000.0\n",
            "Terima kasih telah berbelanja!\n"
          ]
        }
      ]
    }
  ]
}
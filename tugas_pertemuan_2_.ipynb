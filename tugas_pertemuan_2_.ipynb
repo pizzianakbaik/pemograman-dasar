{
  "nbformat": 4,
  "nbformat_minor": 0,
  "metadata": {
    "colab": {
      "provenance": [],
      "authorship_tag": "ABX9TyPFiLvf1QwtAFBfLF4SEl7t",
      "include_colab_link": true
    },
    "kernelspec": {
      "name": "python3",
      "display_name": "Python 3"
    },
    "language_info": {
      "name": "python"
    }
  },
  "cells": [
    {
      "cell_type": "markdown",
      "metadata": {
        "id": "view-in-github",
        "colab_type": "text"
      },
      "source": [
        "<a href=\"https://colab.research.google.com/github/pizzianakbaik/pemograman-dasar/blob/main/tugas_pertemuan_2_.ipynb\" target=\"_parent\"><img src=\"https://colab.research.google.com/assets/colab-badge.svg\" alt=\"Open In Colab\"/></a>"
      ]
    },
    {
      "cell_type": "code",
      "execution_count": 7,
      "metadata": {
        "id": "l5QMCFUOdqUU",
        "colab": {
          "base_uri": "https://localhost:8080/"
        },
        "outputId": "46486080-8986-4808-d00d-b09330b5977e"
      },
      "outputs": [
        {
          "output_type": "stream",
          "name": "stdout",
          "text": [
            "Waktu Datang (startTime): {'HH': 9, 'mm': 23, 'ss': 57}\n",
            "Waktu Pulang (endTime): {'HH': 15, 'mm': 25, 'ss': 43}\n"
          ]
        }
      ],
      "source": [
        "\n",
        "\n",
        "\n",
        "# Tugas 4\n",
        "# Membuat variabel startTime sebagai waktu datang\n",
        "startTime = {\n",
        "    \"HH\": 9,\n",
        "    \"mm\": 23,\n",
        "    \"ss\": 57\n",
        "}\n",
        "\n",
        "# Membuat variabel endTime sebagai waktu pulang\n",
        "endTime = {\n",
        "    \"HH\": 15,\n",
        "    \"mm\": 25,\n",
        "    \"ss\": 43\n",
        "}\n",
        "\n",
        "# Mengecek hasilnya dengan print()\n",
        "print(\"Waktu Datang (startTime):\", startTime)\n",
        "print(\"Waktu Pulang (endTime):\", endTime)"
      ]
    },
    {
      "cell_type": "code",
      "source": [
        "#tugas 5\n",
        "# TODO: Silakan buat kode jawaban di bawah ini\n",
        "\n",
        "# Data awal\n",
        "katalog_A = {\"Laptop\", \"Mouse\", \"Keyboard\", \"Monitor\"}\n",
        "katalog_B = {\"Tablet\", \"Keyboard\", \"Printer\", \"Mouse\"}\n",
        "produk_diskon = (\"Laptop\", \"Printer\", \"Monitor\")\n",
        "\n",
        "# 1. Gabungkan katalog_A dan katalog_B menjadi katalog_lengkap (set union)\n",
        "katalog_lengkap = katalog_A.union(katalog_B)\n",
        "\n",
        "# 2. Cari produk yang ada di katalog_lengkap dan juga di produk_diskon\n",
        "produk_promo_aktif = katalog_lengkap.intersection(produk_diskon)\n",
        "\n",
        "# Print hasil\n",
        "print(\"Katalog A:\", katalog_A)\n",
        "print(\"Katalog B:\", katalog_B)\n",
        "print(\"Produk Diskon (tuple):\", produk_diskon)\n",
        "print(\"\\nKatalog Lengkap (gabungan):\", katalog_lengkap)\n",
        "print(\"Produk Promo Aktif (diskon + ada di katalog):\", produk_promo_aktif)"
      ],
      "metadata": {
        "colab": {
          "base_uri": "https://localhost:8080/"
        },
        "id": "thykQ-Dos8AO",
        "outputId": "661bd772-8a5c-452d-c6de-a07c07741341"
      },
      "execution_count": 5,
      "outputs": [
        {
          "output_type": "stream",
          "name": "stdout",
          "text": [
            "Katalog A: {'Mouse', 'Monitor', 'Laptop', 'Keyboard'}\n",
            "Katalog B: {'Mouse', 'Printer', 'Tablet', 'Keyboard'}\n",
            "Produk Diskon (tuple): ('Laptop', 'Printer', 'Monitor')\n",
            "\n",
            "Katalog Lengkap (gabungan): {'Tablet', 'Mouse', 'Printer', 'Keyboard', 'Monitor', 'Laptop'}\n",
            "Produk Promo Aktif (diskon + ada di katalog): {'Printer', 'Laptop', 'Monitor'}\n"
          ]
        }
      ]
    },
    {
      "cell_type": "code",
      "source": [
        "#tugas 3\n",
        "# TODO: Tulillah kode jawaban di bawah ini\n",
        "\n",
        "inspeksi = [\n",
        "    \"pemahaman terhadap rencana dan desain\",\n",
        "    \"ketersediaan bahan dan peralatan\",\n",
        "    \"pengawasan pekerjaan\",\n",
        "    \"kualitas konstruksi\",\n",
        "    \"keselamatan kerja\",\n",
        "    \"koordinasi dengan pemilik proyek\"\n",
        "]\n",
        "\n",
        "# Print hasil list secara keseluruhan\n",
        "print(\"Daftar Inspeksi:\", inspeksi)\n",
        "\n",
        "# Print hasil list satu per satu\n",
        "print(\"\\nDaftar Inspeksi Detail:\")\n",
        "for item in inspeksi:\n",
        "    print(\"-\", item)"
      ],
      "metadata": {
        "colab": {
          "base_uri": "https://localhost:8080/"
        },
        "id": "n4yXW9tTsY_1",
        "outputId": "91109cb9-4a0f-4e7f-e0a3-54f00ba79511"
      },
      "execution_count": 3,
      "outputs": [
        {
          "output_type": "stream",
          "name": "stdout",
          "text": [
            "Daftar Inspeksi: ['pemahaman terhadap rencana dan desain', 'ketersediaan bahan dan peralatan', 'pengawasan pekerjaan', 'kualitas konstruksi', 'keselamatan kerja', 'koordinasi dengan pemilik proyek']\n",
            "\n",
            "Daftar Inspeksi Detail:\n",
            "- pemahaman terhadap rencana dan desain\n",
            "- ketersediaan bahan dan peralatan\n",
            "- pengawasan pekerjaan\n",
            "- kualitas konstruksi\n",
            "- keselamatan kerja\n",
            "- koordinasi dengan pemilik proyek\n"
          ]
        }
      ]
    },
    {
      "cell_type": "code",
      "source": [
        "#tugas 2\n",
        "data_diri = {\n",
        "    \"firstName\": \"pizzi\",      # string (nama depan)\n",
        "    \"lastName\": \"harmawan\",    # string (nama belakang)\n",
        "    \"age\": 19,                # integer (umur)\n",
        "    \"isMarried\": False        # boolean (status pernikahan)\n",
        "}\n",
        "\n",
        "# Print hasil dictionary\n",
        "print(\"Data Diri:\", data_diri)\n",
        "\n",
        "# Bisa juga print satu per satu\n",
        "print(\"First Name :\", data_diri[\"firstName\"])\n",
        "print(\"Last Name  :\", data_diri[\"lastName\"])\n",
        "print(\"Age        :\", data_diri[\"age\"])\n",
        "print(\"Is Married :\", data_diri[\"isMarried\"])"
      ],
      "metadata": {
        "colab": {
          "base_uri": "https://localhost:8080/"
        },
        "id": "Tpl2BCIlrn77",
        "outputId": "b8bda440-0ca9-41ca-8200-2b5e96866855"
      },
      "execution_count": 2,
      "outputs": [
        {
          "output_type": "stream",
          "name": "stdout",
          "text": [
            "Data Diri: {'firstName': 'pizzi', 'lastName': 'harmawan', 'age': 19, 'isMarried': False}\n",
            "First Name : pizzi\n",
            "Last Name  : harmawan\n",
            "Age        : 19\n",
            "Is Married : False\n"
          ]
        }
      ]
    },
    {
      "cell_type": "code",
      "execution_count": 1,
      "metadata": {
        "colab": {
          "base_uri": "https://localhost:8080/"
        },
        "outputId": "220e882c-d577-45bd-8659-068ef8787f29",
        "id": "3qoEgQdkrugi"
      },
      "outputs": [
        {
          "output_type": "stream",
          "name": "stdout",
          "text": [
            "First Name : pizzi\n",
            "Last Name  : harmawan\n",
            "Age        : 19\n",
            "Is Married : False\n"
          ]
        }
      ],
      "source": [
        "#tugas 1\n",
        "# TODO: Silakan buat kode Anda di bawah ini.\n",
        "\n",
        "firstName = \"pizzi\"       # string (nama depan)\n",
        "lastName = \"harmawan\"     # string (nama belakang)\n",
        "age = 19                # integer (umur)\n",
        "isMarried = False        # boolean (status pernikahan)\n",
        "# TODO: Silakan buat kode Anda di bawah ini.\n",
        "\n",
        "\n",
        "# Print hasil variabel\n",
        "print(\"First Name :\", firstName)\n",
        "print(\"Last Name  :\", lastName)\n",
        "print(\"Age        :\", age)\n",
        "print(\"Is Married :\", isMarried)\n",
        "\n"
      ]
    }
  ]
}
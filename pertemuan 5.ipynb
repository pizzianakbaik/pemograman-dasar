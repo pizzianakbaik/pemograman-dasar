{
  "nbformat": 4,
  "nbformat_minor": 0,
  "metadata": {
    "colab": {
      "provenance": [],
      "authorship_tag": "ABX9TyOtlRVNvOcG4mmdHD+p4oMt",
      "include_colab_link": true
    },
    "kernelspec": {
      "name": "python3",
      "display_name": "Python 3"
    },
    "language_info": {
      "name": "python"
    }
  },
  "cells": [
    {
      "cell_type": "markdown",
      "metadata": {
        "id": "view-in-github",
        "colab_type": "text"
      },
      "source": [
        "<a href=\"https://colab.research.google.com/github/pizzianakbaik/pemograman-dasar/blob/main/pertemuan%205.ipynb\" target=\"_parent\"><img src=\"https://colab.research.google.com/assets/colab-badge.svg\" alt=\"Open In Colab\"/></a>"
      ]
    },
    {
      "cell_type": "code",
      "execution_count": 1,
      "metadata": {
        "colab": {
          "base_uri": "https://localhost:8080/"
        },
        "id": "I7IPdRofgX9D",
        "outputId": "320d4f6c-4d82-46da-912b-f4d9024e94fe"
      },
      "outputs": [
        {
          "output_type": "stream",
          "name": "stdout",
          "text": [
            "--- Soal 2 ---\n",
            "Masukkan angka atau NIM (4232411033 untuk berhenti): 5\n",
            "Angka yang dimasukkan: 5\n",
            "Masukkan angka atau NIM (4232411033 untuk berhenti): 10\n",
            "Angka yang dimasukkan: 10\n",
            "Masukkan angka atau NIM (4232411033 untuk berhenti): 4232411034\n",
            "Angka yang dimasukkan: 4232411034\n",
            "Perulangan telah dihentikan oleh NIM 4232411033.\n"
          ]
        }
      ],
      "source": [
        "print(\"--- Soal 2 ---\")\n",
        "kode_berhenti = \"4232411034\"  # NIM sebagai kode berhenti\n",
        "input_pengguna = \"\"  # Inisialisasi awal sebagai string\n",
        "\n",
        "while input_pengguna != kode_berhenti:\n",
        "    try:\n",
        "        input_pengguna = input(\"Masukkan angka atau NIM (4232411033 untuk berhenti): \")\n",
        "        # Cek jika input adalah angka, konversi ke int untuk validasi\n",
        "        if input_pengguna.isdigit():\n",
        "            angka = int(input_pengguna)\n",
        "            print(f\"Angka yang dimasukkan: {angka}\")\n",
        "        else:\n",
        "            print(\"Input: \", input_pengguna)\n",
        "    except ValueError:\n",
        "        print(\"Terjadi kesalahan dalam konversi.\")\n",
        "\n",
        "print(\"Perulangan telah dihentikan oleh NIM 4232411033.\")"
      ]
    },
    {
      "cell_type": "code",
      "source": [
        "print(\"--- Sistem Login dengan Batasan Percobaan ---\")\n",
        "percobaan_maksimal = 3\n",
        "percobaan_saat_ini = 1\n",
        "password_benar = \"masako123\"\n",
        "\n",
        "while percobaan_saat_ini <= percobaan_maksimal:\n",
        "    print(f\"\\nPercobaan ke-{percobaan_saat_ini} dari {percobaan_maksimal}\")\n",
        "    password_input = input(\"Masukkan password: \")\n",
        "\n",
        "    if password_input == password_benar:\n",
        "        print(\"✅ Password benar!\")\n",
        "        break\n",
        "    else:\n",
        "        print(\"❌ Password salah!\")\n",
        "        sisa_kesempatan = percobaan_maksimal - percobaan_saat_ini\n",
        "        if sisa_kesempatan > 0:\n",
        "            print(f\"Kesempatan tersisa: {sisa_kesempatan}\")\n",
        "\n",
        "    percobaan_saat_ini += 1\n",
        "\n",
        "# Cek hasil akhir\n",
        "if percobaan_saat_ini > percobaan_maksimal:\n",
        "    print(\"\\n🚫 Kesempatan habis. Akses ditolak!\")\n",
        "else:\n",
        "    print(\"\\n🎉 Akses diterima! Selamat datang.\")"
      ],
      "metadata": {
        "colab": {
          "base_uri": "https://localhost:8080/"
        },
        "id": "jNUmLrfXiCJq",
        "outputId": "93e3eb46-8917-4ffb-e23d-55c71d2c2a96"
      },
      "execution_count": 6,
      "outputs": [
        {
          "output_type": "stream",
          "name": "stdout",
          "text": [
            "--- Sistem Login dengan Batasan Percobaan ---\n",
            "\n",
            "Percobaan ke-1 dari 3\n",
            "Masukkan password: 12345\n",
            "❌ Password salah!\n",
            "Kesempatan tersisa: 2\n",
            "\n",
            "Percobaan ke-2 dari 3\n",
            "Masukkan password: masako123\n",
            "✅ Password benar!\n",
            "\n",
            "🎉 Akses diterima! Selamat datang.\n"
          ]
        }
      ]
    },
    {
      "cell_type": "code",
      "source": [
        "print(\"--- Soal 7 Modifikasi ---\")\n",
        "kelurahan = \"seilekop\"\n",
        "\n",
        "for i, karakter in enumerate(kelurahan):\n",
        "    print(f\"Karakter ke-{i + 1}: {karakter}\")"
      ],
      "metadata": {
        "colab": {
          "base_uri": "https://localhost:8080/"
        },
        "id": "Y63aDyD6iNme",
        "outputId": "2e3c9859-84d5-4795-96bf-097b62bb5b16"
      },
      "execution_count": 7,
      "outputs": [
        {
          "output_type": "stream",
          "name": "stdout",
          "text": [
            "--- Soal 7 Modifikasi ---\n",
            "Karakter ke-1: s\n",
            "Karakter ke-2: e\n",
            "Karakter ke-3: i\n",
            "Karakter ke-4: l\n",
            "Karakter ke-5: e\n",
            "Karakter ke-6: k\n",
            "Karakter ke-7: o\n",
            "Karakter ke-8: p\n"
          ]
        }
      ]
    }
  ]
}
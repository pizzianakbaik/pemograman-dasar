{
  "nbformat": 4,
  "nbformat_minor": 0,
  "metadata": {
    "colab": {
      "provenance": [],
      "authorship_tag": "ABX9TyMsbyRk3l0TdYB8tuhqDznL",
      "include_colab_link": true
    },
    "kernelspec": {
      "name": "python3",
      "display_name": "Python 3"
    },
    "language_info": {
      "name": "python"
    }
  },
  "cells": [
    {
      "cell_type": "markdown",
      "metadata": {
        "id": "view-in-github",
        "colab_type": "text"
      },
      "source": [
        "<a href=\"https://colab.research.google.com/github/pizzianakbaik/pemograman-dasar/blob/main/Untitled1.ipynb\" target=\"_parent\"><img src=\"https://colab.research.google.com/assets/colab-badge.svg\" alt=\"Open In Colab\"/></a>"
      ]
    },
    {
      "cell_type": "code",
      "execution_count": 52,
      "metadata": {
        "id": "l5QMCFUOdqUU",
        "colab": {
          "base_uri": "https://localhost:8080/"
        },
        "outputId": "66024e65-2f5f-4156-dc5d-73fe0e48f938"
      },
      "outputs": [
        {
          "output_type": "stream",
          "name": "stdout",
          "text": [
            "Data Diri: {'firstName': 'pizzi', 'lastName': 'harmawan', 'age': 19, 'isMarried': False}\n",
            "Start Time: {'HH': 9, 'mm': 23, 'ss': 57}\n",
            "End Time  : {'HH': 15, 'mm': 25, 'ss': 43}\n",
            "\n",
            "Format Waktu:\n",
            "Datang : 9:23:57\n",
            "Pulang : 15:25:43\n",
            "Daftar Inspeksi: ['pemahaman terhadap rencana dan desain', 'ketersediaan bahan dan peralatan', 'pengawasan pekerjaan', 'kualitas konstruksi', 'keselamatan kerja', 'koordinasi dengan pemilik proyek']\n",
            "\n",
            "Daftar Inspeksi Detail:\n",
            "- pemahaman terhadap rencana dan desain\n",
            "- ketersediaan bahan dan peralatan\n",
            "- pengawasan pekerjaan\n",
            "- kualitas konstruksi\n",
            "- keselamatan kerja\n",
            "- koordinasi dengan pemilik proyek\n",
            "First Name : pizzi\n",
            "Last Name  : harmawan\n",
            "Age        : 19\n",
            "Is Married : False\n",
            "First Name : pizzi\n",
            "Last Name  : harmawan\n",
            "Age        : 19\n",
            "Is Married : False\n"
          ]
        }
      ],
      "source": [
        "#tugas 1\n",
        "# TODO: Silakan buat kode Anda di bawah ini.\n",
        "\n",
        "firstName = \"pizzi\"       # string (nama depan)\n",
        "lastName = \"harmawan\"     # string (nama belakang)\n",
        "age = 19                # integer (umur)\n",
        "isMarried = False        # boolean (status pernikahan)\n",
        "# TODO: Silakan buat kode Anda di bawah ini.\n",
        "\n",
        "#tugas 2\n",
        "data_diri = {\n",
        "    \"firstName\": \"pizzi\",      # string (nama depan)\n",
        "    \"lastName\": \"harmawan\",    # string (nama belakang)\n",
        "    \"age\": 19,                # integer (umur)\n",
        "    \"isMarried\": False        # boolean (status pernikahan)\n",
        "}\n",
        "\n",
        "# Print hasil dictionary\n",
        "print(\"Data Diri:\", data_diri)\n",
        "\n",
        "#tugas 3\n",
        "# TODO: Tulillah kode jawaban di bawah ini\n",
        "\n",
        "inspeksi = [\n",
        "    \"pemahaman terhadap rencana dan desain\",\n",
        "    \"ketersediaan bahan dan peralatan\",\n",
        "    \"pengawasan pekerjaan\",\n",
        "    \"kualitas konstruksi\",\n",
        "    \"keselamatan kerja\",\n",
        "    \"koordinasi dengan pemilik proyek\"\n",
        "]\n",
        "\n",
        "\n",
        "#tugas 4\n",
        "# TODO: Tulis kode Anda di bawah ini\n",
        "\n",
        "# Waktu datang\n",
        "startTime = {\n",
        "    \"HH\": 9,\n",
        "    \"mm\": 23,\n",
        "    \"ss\": 57\n",
        "}\n",
        "\n",
        "# Waktu pulang\n",
        "endTime = {\n",
        "    \"HH\": 15,\n",
        "    \"mm\": 25,\n",
        "    \"ss\": 43\n",
        "}\n",
        "\n",
        "# Print hasil dictionary\n",
        "print(\"Start Time:\", startTime)\n",
        "print(\"End Time  :\", endTime)\n",
        "\n",
        "# Print dalam format jam:mm:ss\n",
        "print(\"\\nFormat Waktu:\")\n",
        "print(f\"Datang : {startTime['HH']}:{startTime['mm']}:{startTime['ss']}\")\n",
        "print(f\"Pulang : {endTime['HH']}:{endTime['mm']}:{endTime['ss']}\")\n",
        "\n",
        "# Print hasil list secara keseluruhan\n",
        "print(\"Daftar Inspeksi:\", inspeksi)\n",
        "\n",
        "# Print hasil list satu per satu\n",
        "print(\"\\nDaftar Inspeksi Detail:\")\n",
        "for item in inspeksi:\n",
        "    print(\"-\", item)\n",
        "\n",
        "# Bisa juga print satu per satu\n",
        "print(\"First Name :\", data_diri[\"firstName\"])\n",
        "print(\"Last Name  :\", data_diri[\"lastName\"])\n",
        "print(\"Age        :\", data_diri[\"age\"])\n",
        "print(\"Is Married :\", data_diri[\"isMarried\"])\n",
        "\n",
        "# Print hasil variabel\n",
        "print(\"First Name :\", firstName)\n",
        "print(\"Last Name  :\", lastName)\n",
        "print(\"Age        :\", age)\n",
        "print(\"Is Married :\", isMarried)\n",
        "\n"
      ]
    }
  ]
}
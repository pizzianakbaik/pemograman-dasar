{
  "nbformat": 4,
  "nbformat_minor": 0,
  "metadata": {
    "colab": {
      "provenance": [],
      "authorship_tag": "ABX9TyPiLlF1OD6pQ5xKdUtRTmg9",
      "include_colab_link": true
    },
    "kernelspec": {
      "name": "python3",
      "display_name": "Python 3"
    },
    "language_info": {
      "name": "python"
    }
  },
  "cells": [
    {
      "cell_type": "markdown",
      "metadata": {
        "id": "view-in-github",
        "colab_type": "text"
      },
      "source": [
        "<a href=\"https://colab.research.google.com/github/pizzianakbaik/pemograman-dasar/blob/main/praktikum_pertemuan_3.ipynb\" target=\"_parent\"><img src=\"https://colab.research.google.com/assets/colab-badge.svg\" alt=\"Open In Colab\"/></a>"
      ]
    },
    {
      "cell_type": "code",
      "execution_count": 1,
      "metadata": {
        "id": "PBCfPFjM6xIC",
        "colab": {
          "base_uri": "https://localhost:8080/"
        },
        "collapsed": true,
        "outputId": "5d964093-664e-4c42-84c5-72502967d4de"
      },
      "outputs": [
        {
          "output_type": "stream",
          "name": "stdout",
          "text": [
            "1\n",
            "Rumah\n",
            "True\n",
            "['kamar mandi', 'kamar tidur']\n",
            "kamar mandi\n",
            "kamar tidur\n"
          ]
        }
      ],
      "source": [
        "# List campuran\n",
        "myList = [1, \"Rumah\", 4.5, True, [\"kamar mandi\", \"kamar tidur\"]]\n",
        "\n",
        "# Akses nested list\n",
        "print(myList[0])      # 1\n",
        "print(myList[1])      # \"Rumah\"\n",
        "print(myList[3])      # True\n",
        "print(myList[4])      # [\"kamar mandi\", \"kamar tidur\"]\n",
        "print(myList[4][0])   # \"kamar mandi\"\n",
        "print(myList[4][1])   # \"kamar tidur\n",
        "\n",
        "\n",
        "\n",
        "\n",
        "\n",
        "\n",
        "\n",
        "\n"
      ]
    },
    {
      "cell_type": "code",
      "source": [
        "# deklarasi variabel list\n",
        "numbers = [23, 43, 15, 34]\n",
        "\n",
        "# cara mengakses elemen dalam variabel list\n",
        "numbers[0]   # 23\n",
        "numbers[1]   # 43\n",
        "numbers[2]   # 15\n",
        "numbers[3]   # 34\n",
        "\n",
        "# cara mengubah nilai elemen dalam variabel list\n",
        "numbers[2] = 51\n",
        "numbers[3] = 51\n",
        "\n",
        "print(numbers[3])\n",
        "\n",
        "\n"
      ],
      "metadata": {
        "collapsed": true,
        "id": "LMiwgwveG-ku"
      },
      "execution_count": 3,
      "outputs": []
    },
    {
      "cell_type": "code",
      "source": [
        "# deklarasi variabel tuple\n",
        "numbers = (23, 43, 15, 34)\n",
        "\n",
        "# cara mengakses elemen dalam variabel tuple\n",
        "numbers[0]   # 23\n",
        "numbers[1]   # 43\n",
        "numbers[2]   # 15\n",
        "\n",
        "# cara mengubah nilai elemen dalam variabel tuple\n",
        "# (tidak bisa dilakukan karena tuple bersifat immutable)\n",
        "\n",
        "\n",
        "\n",
        "\n",
        "\n",
        "\n",
        "\n",
        "\n",
        "\n",
        "\n"
      ],
      "metadata": {
        "id": "Q_n6s4YnKQzW"
      },
      "execution_count": null,
      "outputs": []
    },
    {
      "cell_type": "code",
      "source": [
        "# deklarasi variabel set a dan b\n",
        "a = {1, 2, 3}\n",
        "b = {2, 3, 4}\n",
        "\n",
        "# operasi gabungan\n",
        "print(a.union(b))   # {1, 2, 3, 4}\n",
        "\n",
        "# operasi irisan\n",
        "print(a.intersection(b))   # {2, 3}\n",
        "\n",
        "# operasi perbedaan simetris\n",
        "print(a.symmetric_difference(b))   # {1, 4}\n",
        "\n",
        "\n",
        "\n",
        "\n",
        "\n",
        "\n"
      ],
      "metadata": {
        "id": "x-yJFGLbLHAw"
      },
      "execution_count": null,
      "outputs": []
    },
    {
      "cell_type": "code",
      "source": [
        "# deklarasi variabel dictionary\n",
        "propertyDetail = {\n",
        "    \"numfloors\": 1,\n",
        "    \"propertyType\": \"rumah\",\n",
        "    \"hasTerrace\": True,\n",
        "    \"HasGarage\": False\n",
        "}\n",
        "\n",
        "# cara mengakses elemen dalam variabel dictionary\n",
        "print(propertyDetail[\"numfloors\"])     # 1\n",
        "print(propertyDetail[\"propertyType\"])  # rumah\n",
        "print(propertyDetail[\"hasTerrace\"])    # True\n",
        "print(propertyDetail[\"HasGarage\"])     # False\n",
        "\n",
        "# cara mengubah nilai elemen dalam variabel dictionary\n",
        "propertyDetail[\"hasTerrace\"] = False\n",
        "print(propertyDetail[\"hasTerrace\"])    # False\n",
        "\n",
        "# print(propertyDetail[\"propertyType\"])\n"
      ],
      "metadata": {
        "id": "CwaIeoQkLZXM"
      },
      "execution_count": null,
      "outputs": []
    }
  ]
}
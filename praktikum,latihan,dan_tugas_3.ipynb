{
  "nbformat": 4,
  "nbformat_minor": 0,
  "metadata": {
    "colab": {
      "provenance": [],
      "authorship_tag": "ABX9TyP8p3sigST2olNTd9i0XJ3E",
      "include_colab_link": true
    },
    "kernelspec": {
      "name": "python3",
      "display_name": "Python 3"
    },
    "language_info": {
      "name": "python"
    }
  },
  "cells": [
    {
      "cell_type": "markdown",
      "metadata": {
        "id": "view-in-github",
        "colab_type": "text"
      },
      "source": [
        "<a href=\"https://colab.research.google.com/github/pizzianakbaik/pemograman-dasar/blob/main/praktikum%2Clatihan%2Cdan_tugas_3.ipynb\" target=\"_parent\"><img src=\"https://colab.research.google.com/assets/colab-badge.svg\" alt=\"Open In Colab\"/></a>"
      ]
    },
    {
      "cell_type": "code",
      "execution_count": null,
      "metadata": {
        "colab": {
          "base_uri": "https://localhost:8080/"
        },
        "id": "ICzVa4dWeVas",
        "outputId": "2b712a6f-28c7-410f-8ac1-6d36165ff7d5"
      },
      "outputs": [
        {
          "output_type": "stream",
          "name": "stdout",
          "text": [
            "Berapa porsi makan yang Anda beli? : 3\n",
            "Siapa Nama Pelanggan ? : pizzi\n",
            "Nama Pelanggan : pizzi\n",
            "Total Porsi    : 3.0\n"
          ]
        }
      ],
      "source": [
        "# INPUT N OUTPUT 1\n",
        "# Program untuk menerima input dengan tipe data float\n",
        "\n",
        "total = float (input(\"Berapa porsi makan yang Anda beli? : \"))\n",
        "Nama  = str (input(\"Siapa Nama Pelanggan ? : \"))\n",
        "\n",
        "print(\"Nama Pelanggan :\", Nama)\n",
        "print(\"Total Porsi    :\", total)\n"
      ]
    },
    {
      "cell_type": "code",
      "source": [
        "# INPUT OUTPUT 2\n",
        "# Contoh penggunaan operator format output\n",
        "\n",
        "nama   = \"pizzi\"\n",
        "usia   = 19         # integer\n",
        "tinggi = 165      # float\n",
        "lahir = 2006        # integer untuk contoh hex & octal\n",
        "\n",
        "# Menggunakan operator format\n",
        "print(\"Nama saya %s\" % (nama))          # %s untuk string\n",
        "print(\"Usia saya %d tahun\" % (usia))    # %d untuk integer\n",
        "print(\"Tinggi badan saya %f cm\" % (tinggi))   # %f untuk float\n",
        "print(\"lahir %d dalam heksadesimal = %x\" % (lahir, lahir))  # %x untuk hex\n",
        "print(\"lahir %d dalam oktal = %o\" % (lahir, lahir))         # %o untuk octal"
      ],
      "metadata": {
        "colab": {
          "base_uri": "https://localhost:8080/"
        },
        "id": "CG5JlOYRx9ya",
        "outputId": "3f1b69a3-454e-4f70-a67f-de7e62ffd246"
      },
      "execution_count": null,
      "outputs": [
        {
          "output_type": "stream",
          "name": "stdout",
          "text": [
            "Masukkan nilai Tugas: 80\n",
            "Masukkan nilai Kuis: 70\n",
            "Masukkan nilai UTS: 65\n",
            "Masukkan nilai UAS: 65\n",
            "Masukkan nilai Praktikum: 80\n",
            "Masukkan standar kelulusan: 75\n",
            "Nilai Akhir Mahasiswa: 70.0\n",
            "Standar Kelulusan: 75.0\n",
            "Apakah Mahasiswa Lulus? False\n",
            "Perlu Remedial? True\n"
          ]
        }
      ]
    },
    {
      "cell_type": "code",
      "source": [
        "# ekspresi 1\n",
        "# Konversi Waktu dari Total Detik ke Jam:Menit:Detik\n",
        "\n",
        "# Input dari keyboard\n",
        "total_detik = int(input(\"Masukkan total detik: \"))\n",
        "\n",
        "# Hitung jam, menit, detik\n",
        "jam = total_detik // 3600\n",
        "sisa_detik = total_detik % 3600\n",
        "menit = sisa_detik // 60\n",
        "detik = sisa_detik % 60\n",
        "\n",
        "# Tampilkan hasil\n",
        "print(f\"Hasil Konversi: {jam} Jam, {menit} Menit, {detik} Detik\")"
      ],
      "metadata": {
        "id": "vFk8tjLI6Rgb",
        "colab": {
          "base_uri": "https://localhost:8080/"
        },
        "outputId": "e17278c4-8bfc-42bc-c69c-3e9f24118b87"
      },
      "execution_count": null,
      "outputs": [
        {
          "output_type": "stream",
          "name": "stdout",
          "text": [
            "Masukkan total detik: 358200\n",
            "Hasil Konversi: 99 Jam, 30 Menit, 0 Detik\n"
          ]
        }
      ]
    },
    {
      "cell_type": "code",
      "source": [
        "# ekspresi 2\n",
        "# Menghitung Nilai Akhir Mahasiswa\n",
        "\n",
        "# Input nilai mahasiswa\n",
        "tugas = float(input(\"Masukkan nilai Tugas: \"))\n",
        "kuis = float(input(\"Masukkan nilai Kuis: \"))\n",
        "uts = float(input(\"Masukkan nilai UTS: \"))\n",
        "uas = float(input(\"Masukkan nilai UAS: \"))\n",
        "praktikum = float(input(\"Masukkan nilai Praktikum: \"))\n",
        "\n",
        "nilai_mahasiswa = (0.2 * tugas) + (0.1 * kuis) + (0.3 * uts) + (0.3 * uas) + (0.1 * praktikum)\n",
        "standar_kelulusan = float(input(\"Masukkan standar kelulusan: \"))\n",
        "apakah_lulus = nilai_mahasiswa >= standar_kelulusan\n",
        "perlu_remedial = nilai_mahasiswa < standar_kelulusan\n",
        "\n",
        "# output\n",
        "print(f\"Nilai Akhir Mahasiswa: {nilai_mahasiswa}\")\n",
        "print(f\"Standar Kelulusan: {standar_kelulusan}\")\n",
        "print(f\"Apakah Mahasiswa Lulus? {apakah_lulus}\")\n",
        "print(f\"Perlu Remedial? {perlu_remedial}\")\n"
      ],
      "metadata": {
        "colab": {
          "base_uri": "https://localhost:8080/"
        },
        "id": "nUDzbhlrlck6",
        "outputId": "f718f79d-b895-49fa-ea2c-075a2c2df812"
      },
      "execution_count": null,
      "outputs": [
        {
          "output_type": "stream",
          "name": "stdout",
          "text": [
            "Masukkan nilai Tugas: 80\n",
            "Masukkan nilai Kuis: 80\n",
            "Masukkan nilai UTS: 70\n",
            "Masukkan nilai UAS: 90\n",
            "Masukkan nilai Praktikum: 75\n",
            "Masukkan standar kelulusan: 75\n",
            "Nilai Akhir Mahasiswa: 79.5\n",
            "Standar Kelulusan: 75.0\n",
            "Apakah Mahasiswa Lulus? True\n",
            "Perlu Remedial? False\n"
          ]
        }
      ]
    },
    {
      "cell_type": "code",
      "source": [
        "# ekspresi 3\n",
        "# Program Menghitung Total Harga dengan Diskon\n",
        "\n",
        "# Input belanja via keyboard\n",
        "belanja = int(input(\"Masukkan total belanja: \"))\n",
        "\n",
        "# Hitung diskon\n",
        "diskon = (0, 0.35 * belanja)[belanja > 1000000]\n",
        "\n",
        "# Hitung total harga setelah diskon\n",
        "total_harga = belanja - diskon\n",
        "\n",
        "# Tampilkan hasil\n",
        "print(\"Total harga setelah diskon =\", total_harga)"
      ],
      "metadata": {
        "colab": {
          "base_uri": "https://localhost:8080/"
        },
        "id": "csmcZj-Xs0m6",
        "outputId": "f784d23d-7efb-4d9a-e613-d70ab03efdad"
      },
      "execution_count": 4,
      "outputs": [
        {
          "output_type": "stream",
          "name": "stdout",
          "text": [
            "Masukkan total belanja: 1100000\n",
            "Total harga setelah diskon = 715000.0\n"
          ]
        }
      ]
    },
    {
      "cell_type": "code",
      "source": [
        "# latihan 1 a\n",
        "# input\n",
        "tahun = int(input(\"Masukkan tahun: \"))\n",
        "\n",
        "# proses logika\n",
        "if (tahun % 4 == 0 and tahun % 100 != 0) or (tahun % 400 == 0):\n",
        "    print(tahun, \"adalah tahun kabisat\")\n",
        "else:\n",
        "    print(tahun, \"bukan tahun kabisat\")\n",
        "\n"
      ],
      "metadata": {
        "colab": {
          "base_uri": "https://localhost:8080/"
        },
        "id": "PXJFhq_ooyUj",
        "outputId": "d14276d1-222a-43be-87cc-ab52e0c4042a"
      },
      "execution_count": null,
      "outputs": [
        {
          "output_type": "stream",
          "name": "stdout",
          "text": [
            "Masukkan tahun: 20\n",
            "20 adalah tahun kabisat\n"
          ]
        }
      ]
    },
    {
      "cell_type": "code",
      "source": [
        "# Latihan 1 b\n",
        "\n",
        "# input\n",
        "tahun = int(input(\"Masukkan tahun: \"))\n",
        "\n",
        "# proses logika\n",
        "if (tahun % 4 == 0 and tahun % 100 != 0) or (tahun % 400 == 0):\n",
        "    print(tahun, \"adalah tahun kabisat\")\n",
        "else:\n",
        "    print(tahun, \"bukan tahun kabisat\")\n"
      ],
      "metadata": {
        "colab": {
          "base_uri": "https://localhost:8080/"
        },
        "id": "19YMLSr2cfkn",
        "outputId": "e2422c7e-4ec5-4848-9502-85d744773b6a"
      },
      "execution_count": null,
      "outputs": [
        {
          "output_type": "stream",
          "name": "stdout",
          "text": [
            "Masukkan tahun: 200\n",
            "200 bukan tahun kabisat\n"
          ]
        }
      ]
    },
    {
      "cell_type": "code",
      "source": [
        "# Tugas 1\n",
        "# Program Kasir Sederhana (Versi Input Otomatis)\n",
        "\n",
        "# Input harga item (dipisahkan dengan koma)\n",
        "data_harga = input(\" harga item: \")\n",
        "list_harga = [float(x) for x in data_harga.split(\",\")]\n",
        "subtotal = sum(list_harga)\n",
        "member = input(\"Apakah pelanggan member? (y/n): \").lower()\n",
        "# Cek syarat diskon\n",
        "diskon = 0\n",
        "if member == \"y\" and subtotal > 100000:\n",
        "    diskon = 0.15 * subtota\n",
        "print(f\"Diskon: Rp{diskon:,.0f}\")\n",
        "# Harga setelah diskon\n",
        "harga_setelah_diskon = subtotal - diskon\n",
        "print(f\"Harga setelah diskon: Rp{harga_setelah_diskon:,.0f}\")\n",
        "# Hitung PPN 11%\n",
        "ppn = 0.11 * harga_setelah_diskon\n",
        "print(f\"PPN (11%): Rp{ppn:,.0f}\")\n",
        "# Total akhir\n",
        "total_akhir = harga_setelah_diskon + ppn\n",
        "print(f\"Total yang harus dibayar: Rp{total_akhir:,.0f}\")\n",
        "print(\"Daftar harga item:\", list_harga)\n",
        "print(f\"Subtotal: Rp{subtotal:,.0f}\")\n"
      ],
      "metadata": {
        "id": "LqwujlBn7C6Z",
        "colab": {
          "base_uri": "https://localhost:8080/"
        },
        "outputId": "27eed1d6-9a1f-4b6d-cb90-91e3facbd073"
      },
      "execution_count": 22,
      "outputs": [
        {
          "output_type": "stream",
          "name": "stdout",
          "text": [
            " harga item: 10000,20000,50000\n",
            "Apakah pelanggan member? (y/n): y\n",
            "Diskon: Rp0\n",
            "Harga setelah diskon: Rp80,000\n",
            "PPN (11%): Rp8,800\n",
            "Total yang harus dibayar: Rp88,800\n",
            "Daftar harga item: [10000.0, 20000.0, 50000.0]\n",
            "Subtotal: Rp80,000\n"
          ]
        }
      ]
    }
  ]
}
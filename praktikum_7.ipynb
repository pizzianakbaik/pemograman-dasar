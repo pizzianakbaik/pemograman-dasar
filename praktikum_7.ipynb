{
  "nbformat": 4,
  "nbformat_minor": 0,
  "metadata": {
    "colab": {
      "provenance": [],
      "authorship_tag": "ABX9TyMIpLByvQV5Ah07c7U1oCph",
      "include_colab_link": true
    },
    "kernelspec": {
      "name": "python3",
      "display_name": "Python 3"
    },
    "language_info": {
      "name": "python"
    }
  },
  "cells": [
    {
      "cell_type": "markdown",
      "metadata": {
        "id": "view-in-github",
        "colab_type": "text"
      },
      "source": [
        "<a href=\"https://colab.research.google.com/github/pizzianakbaik/pemograman-dasar/blob/main/praktikum_7.ipynb\" target=\"_parent\"><img src=\"https://colab.research.google.com/assets/colab-badge.svg\" alt=\"Open In Colab\"/></a>"
      ]
    },
    {
      "cell_type": "code",
      "execution_count": null,
      "metadata": {
        "colab": {
          "base_uri": "https://localhost:8080/"
        },
        "id": "2uZNF2KbBXBc",
        "outputId": "1c7203c9-6c6e-429e-fe4b-7e9e0b7e05fd"
      },
      "outputs": [
        {
          "output_type": "stream",
          "name": "stdout",
          "text": [
            "Sistem siap. Selamat datang kembali di sesi praktikum.\n"
          ]
        }
      ],
      "source": [
        "# soal 1\n",
        "def sapa_praktikan():\n",
        "    \"\"\"Mencetak pesan sambutan dasar.\"\"\"\n",
        "    print(\"Sistem siap. Selamat datang kembali di sesi praktikum.\")\n",
        "\n",
        "# Pemanggilan:\n",
        "sapa_praktikan()\n"
      ]
    },
    {
      "cell_type": "code",
      "source": [
        "# soal 1 modif\n",
        "def Biodata():\n",
        "    \"\"\"Menampilkan biodata lengkap praktikan.\"\"\"\n",
        "    print(\"=== BIODATA PRAKTIKAN ===\")\n",
        "    print(\"Nama      : Pizzi Harmawan\")\n",
        "    print(\"NIM       : 4232401004\")\n",
        "    print(\"Kelas     : Rpe Pagi A\")\n",
        "    print(\"Jurusan   : Teknologi Rekayasa Pembangkit Energi\")\n",
        "    print(\"Hobi      : Membaca Buku\")\n",
        "\n",
        "# Pemanggilan:\n",
        "Biodata()\n"
      ],
      "metadata": {
        "colab": {
          "base_uri": "https://localhost:8080/"
        },
        "id": "rrI-NbAbBptv",
        "outputId": "9482c404-5ce3-4e0a-b3d4-8170172d23b3"
      },
      "execution_count": null,
      "outputs": [
        {
          "output_type": "stream",
          "name": "stdout",
          "text": [
            "=== BIODATA PRAKTIKAN ===\n",
            "Nama      : Pizzi Harmawan\n",
            "NIM       : 4232401004\n",
            "Kelas     :Rpe Pagi A\n",
            "Jurusan   : Teknologi Rekayasa Pembangkit Energi\n",
            "Hobi      : Membaca Buku\n"
          ]
        }
      ]
    },
    {
      "cell_type": "code",
      "source": [
        "# soal 2\n",
        "def hitung_volume_kubus(sisi):\n",
        "    \"\"\"Menghitung volume kubus dari panjang sisinya.\"\"\"\n",
        "    return sisi ** 3\n",
        "\n",
        "panjang_sisi = 5\n",
        "print(f\"Volume kubus dengan sisi {panjang_sisi} adalah: {hitung_volume_kubus(panjang_sisi)}\")\n"
      ],
      "metadata": {
        "colab": {
          "base_uri": "https://localhost:8080/"
        },
        "id": "rYmMlXt4BqJw",
        "outputId": "065e8aaf-f8d6-456b-ec3f-4e64cc209345"
      },
      "execution_count": null,
      "outputs": [
        {
          "output_type": "stream",
          "name": "stdout",
          "text": [
            "Volume kubus dengan sisi 5 adalah: 125\n"
          ]
        }
      ]
    },
    {
      "cell_type": "code",
      "source": [
        "# soal 2 modif\n",
        "def hitung_volume_balok(panjang, lebar, tinggi):\n",
        "    \"\"\"Menghitung volume balok.\"\"\"\n",
        "    return panjang * lebar * tinggi\n",
        "\n",
        "print(f\"Volume balok: {hitung_volume_balok(10, 5, 3)}\")\n"
      ],
      "metadata": {
        "colab": {
          "base_uri": "https://localhost:8080/"
        },
        "id": "rbgEvZeWBqXR",
        "outputId": "1b2fb364-9f9e-47f8-87fc-b43ee9bf22e1"
      },
      "execution_count": null,
      "outputs": [
        {
          "output_type": "stream",
          "name": "stdout",
          "text": [
            "Volume balok: 150\n"
          ]
        }
      ]
    },
    {
      "cell_type": "code",
      "source": [
        "# soal 3\n",
        "def hitung_rata_rata(data_nilai):\n",
        "    \"\"\"Menghitung rata-rata dari list angka menggunakan perulangan for.\"\"\"\n",
        "    total = 0\n",
        "    for nilai in data_nilai:\n",
        "        total += nilai\n",
        "    if total > 0:\n",
        "        return total / len(data_nilai)\n",
        "    return 0\n",
        "\n",
        "nilai_praktikan = [85, 78, 92, 65, 90]\n",
        "print(f\"Nilai rata-rata kelas adalah: {hitung_rata_rata(nilai_praktikan)}\")\n"
      ],
      "metadata": {
        "colab": {
          "base_uri": "https://localhost:8080/"
        },
        "id": "N3dNQ-3zBqan",
        "outputId": "902ff4f8-98c0-4bee-832a-1753eb85bac9"
      },
      "execution_count": null,
      "outputs": [
        {
          "output_type": "stream",
          "name": "stdout",
          "text": [
            "Nilai rata-rata kelas adalah: 82.0\n"
          ]
        }
      ]
    },
    {
      "cell_type": "code",
      "source": [
        "# soal 3 modif\n",
        "def hitung_rata_rata(data_nilai):\n",
        "    \"\"\"Menghitung rata-rata dengan validasi nilai.\"\"\"\n",
        "    total = 0\n",
        "    jumlah_valid = 0\n",
        "    for nilai in data_nilai:\n",
        "        if 0 <= nilai <= 100:\n",
        "            total += nilai\n",
        "            jumlah_valid += 1\n",
        "        else:\n",
        "            print(f\"Nilai {nilai} diabaikan (tidak valid)\")\n",
        "    if jumlah_valid > 0:\n",
        "        return total / jumlah_valid\n",
        "    return 0\n",
        "    nilai_praktikan = [85, 100, 92, 110, -5]\n",
        "print(hitung_rata_rata(nilai_praktikan))\n"
      ],
      "metadata": {
        "colab": {
          "base_uri": "https://localhost:8080/"
        },
        "id": "7LEgjnwGBqc-",
        "outputId": "63bc7d0b-19a7-4284-82f8-27fc9287d425"
      },
      "execution_count": null,
      "outputs": [
        {
          "output_type": "stream",
          "name": "stdout",
          "text": [
            "82.0\n"
          ]
        }
      ]
    },
    {
      "cell_type": "code",
      "source": [
        "# soal 4\n",
        "def tentukan_predikat(skor):\n",
        "    \"\"\"Menentukan predikat (A, B, C, D, E) berdasarkan skor.\"\"\"\n",
        "    if skor >= 85:\n",
        "        return \"A\"\n",
        "    elif skor >= 70:\n",
        "        return \"B\"\n",
        "    elif skor >= 60:\n",
        "        return \"C\"\n",
        "    elif skor >= 50:\n",
        "        return \"D\"\n",
        "    else:\n",
        "        return \"E\"\n",
        "\n",
        "print(f\"Skor 75 mendapat predikat: {tentukan_predikat(75)}\")\n",
        "print(f\"Skor 48 mendapat predikat: {tentukan_predikat(48)}\")\n"
      ],
      "metadata": {
        "colab": {
          "base_uri": "https://localhost:8080/"
        },
        "id": "aqJNHQKCBqfn",
        "outputId": "6921da40-545a-4f5f-b7f6-0c7ae970765a"
      },
      "execution_count": null,
      "outputs": [
        {
          "output_type": "stream",
          "name": "stdout",
          "text": [
            "Skor 75 mendapat predikat: B\n",
            "Skor 48 mendapat predikat: E\n"
          ]
        }
      ]
    },
    {
      "cell_type": "code",
      "source": [
        "# soal 4 modif\n",
        "def tentukan_predikat(skor):\n",
        "    \"\"\"Menentukan predikat nilai dengan validasi tipe data.\"\"\"\n",
        "    if not isinstance(skor, (int, float)):\n",
        "        return \"Input harus berupa angka!\"\n",
        "\n",
        "    if skor >= 85:\n",
        "        return \"A\"\n",
        "    elif skor >= 70:\n",
        "        return \"B\"\n",
        "    elif skor >= 60:\n",
        "        return \"C\"\n",
        "    elif skor >= 50:\n",
        "        return \"D\"\n",
        "    else:\n",
        "        return \"E\"\n",
        "print(tentukan_predikat(80))\n",
        "print(tentukan_predikat(\"delapan puluh\"))  # Akan mengeluarkan pesan error sesuai fungsi\n"
      ],
      "metadata": {
        "colab": {
          "base_uri": "https://localhost:8080/"
        },
        "id": "JSEKRay8Bqj5",
        "outputId": "cc561d52-662b-430a-d748-704026f5b923"
      },
      "execution_count": null,
      "outputs": [
        {
          "output_type": "stream",
          "name": "stdout",
          "text": [
            "B\n",
            "Input harus berupa angka!\n"
          ]
        }
      ]
    },
    {
      "cell_type": "code",
      "source": [
        "# soal 5\n",
        "def hitung_faktorial(n):\n",
        "    \"\"\"Menghitung faktorial dari bilangan positif n.\"\"\"\n",
        "    hasil = 1\n",
        "    while n > 1:\n",
        "        hasil *= n\n",
        "        n -= 1\n",
        "    return hasil\n",
        "\n",
        "bilangan_n = 4\n",
        "print(f\"Faktorial dari {bilangan_n} adalah: {hitung_faktorial(bilangan_n)}\")\n"
      ],
      "metadata": {
        "colab": {
          "base_uri": "https://localhost:8080/"
        },
        "id": "NXAlfS7oBqmL",
        "outputId": "bc120d09-7676-4f81-e09f-34b1917daf77"
      },
      "execution_count": null,
      "outputs": [
        {
          "output_type": "stream",
          "name": "stdout",
          "text": [
            "Faktorial dari 4 adalah: 24\n"
          ]
        }
      ]
    },
    {
      "cell_type": "code",
      "source": [
        "# soal 5 modif\n",
        "def hitung_faktorial(n):\n",
        "    \"\"\"Menghitung faktorial dari bilangan positif n dengan pengecekan kondisi.\"\"\"\n",
        "    # Percabangan untuk menangani input khusus\n",
        "    if n < 0:\n",
        "        return \"Tidak dapat menghitung faktorial bilangan negatif!\"\n",
        "    elif n == 0:\n",
        "        return 1  # Faktorial dari 0 didefinisikan sebagai 1\n",
        "    hasil = 1\n",
        "    # Perulangan berjalan selama n lebih besar dari 1\n",
        "    while n > 1:\n",
        "        hasil *= n\n",
        "        n -= 1  # Kurangi nilai n setiap iterasi\n",
        "\n",
        "    return hasil\n",
        "# Pemanggilan fungsi\n",
        "print(\"=== PROGRAM FAKTORIAL (MODIFIKASI) ===\")\n",
        "bilangan_n = 4\n",
        "print(f\"Faktorial dari {bilangan_n} adalah: {hitung_faktorial(bilangan_n)}\")\n",
        "bilangan_n = 0\n",
        "print(f\"Faktorial dari {bilangan_n} adalah: {hitung_faktorial(bilangan_n)}\")\n",
        "bilangan_n = -5\n",
        "print(f\"Faktorial dari {bilangan_n} adalah: {hitung_faktorial(bilangan_n)}\")"
      ],
      "metadata": {
        "colab": {
          "base_uri": "https://localhost:8080/"
        },
        "id": "ysy4R-fzJg68",
        "outputId": "f234c40b-4ded-4d26-c04d-dcc8e5746fba"
      },
      "execution_count": null,
      "outputs": [
        {
          "output_type": "stream",
          "name": "stdout",
          "text": [
            "=== PROGRAM FAKTORIAL (MODIFIKASI) ===\n",
            "Faktorial dari 4 adalah: 24\n",
            "Faktorial dari 0 adalah: 1\n",
            "Faktorial dari -5 adalah: Tidak dapat menghitung faktorial bilangan negatif!\n"
          ]
        }
      ]
    },
    {
      "cell_type": "code",
      "source": [
        "# soal 6\n",
        "def analisis_suhu(data_suhu):\n",
        "    \"\"\"Menghitung jumlah hari Panas dan Dingin dari data_suhu.\"\"\"\n",
        "    panas_count = 0\n",
        "    dingin_count = 0\n",
        "\n",
        "    for suhu in data_suhu:\n",
        "        if suhu >= 35:\n",
        "            panas_count += 1\n",
        "        elif suhu <= 15:\n",
        "            dingin_count += 1\n",
        "\n",
        "    return panas_count, dingin_count\n",
        "\n",
        "suhu_mingguan = [36, 30, 14, 25, 38, 16, 28]\n",
        "jumlah_panas, jumlah_dingin = analisis_suhu(suhu_mingguan)\n",
        "print(f\"Jumlah hari Panas (>=35°C): {jumlah_panas}\")\n",
        "print(f\"Jumlah hari Dingin (<=15°C): {jumlah_dingin}\")\n"
      ],
      "metadata": {
        "colab": {
          "base_uri": "https://localhost:8080/"
        },
        "id": "T-tPj1BHBqsP",
        "outputId": "15796efa-dc20-4eb7-a519-d860e26f17e9"
      },
      "execution_count": null,
      "outputs": [
        {
          "output_type": "stream",
          "name": "stdout",
          "text": [
            "Jumlah hari Panas (>=35°C): 2\n",
            "Jumlah hari Dingin (<=15°C): 1\n"
          ]
        }
      ]
    },
    {
      "cell_type": "code",
      "source": [
        "# soal 6 modif\n",
        "def analisis_suhu(data_suhu, batas_panas=35, batas_dingin=15):\n",
        "    \"\"\"Analisis suhu dengan parameter batas yang dapat disesuaikan.\"\"\"\n",
        "    panas_count = 0\n",
        "    dingin_count = 0\n",
        "    for suhu in data_suhu:\n",
        "        if suhu >= batas_panas:\n",
        "            panas_count += 1\n",
        "        elif suhu <= batas_dingin:\n",
        "            dingin_count += 1\n",
        "    return panas_count, dingin_count\n",
        "    suhu_mingguan = [36, 30, 14, 25, 38, 16, 28]\n",
        "print(analisis_suhu(suhu_mingguan))\n",
        "print(analisis_suhu([34, 36, 10, 15, 40], batas_panas=34, batas_dingin=12))"
      ],
      "metadata": {
        "colab": {
          "base_uri": "https://localhost:8080/"
        },
        "id": "Z4faPXaoENEx",
        "outputId": "5667443c-85d4-4f5f-a291-cd8fa48bd693"
      },
      "execution_count": null,
      "outputs": [
        {
          "output_type": "stream",
          "name": "stdout",
          "text": [
            "(2, 1)\n",
            "(3, 1)\n"
          ]
        }
      ]
    }
  ]
}
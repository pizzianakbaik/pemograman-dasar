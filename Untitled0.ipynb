{
  "nbformat": 4,
  "nbformat_minor": 0,
  "metadata": {
    "colab": {
      "provenance": [],
      "authorship_tag": "ABX9TyMaMQY/tP1ojYMh5MEtWgeF",
      "include_colab_link": true
    },
    "kernelspec": {
      "name": "python3",
      "display_name": "Python 3"
    },
    "language_info": {
      "name": "python"
    }
  },
  "cells": [
    {
      "cell_type": "markdown",
      "metadata": {
        "id": "view-in-github",
        "colab_type": "text"
      },
      "source": [
        "<a href=\"https://colab.research.google.com/github/pizzianakbaik/pemograman-dasar/blob/main/Untitled0.ipynb\" target=\"_parent\"><img src=\"https://colab.research.google.com/assets/colab-badge.svg\" alt=\"Open In Colab\"/></a>"
      ]
    },
    {
      "cell_type": "code",
      "execution_count": null,
      "metadata": {
        "id": "bRz5aoRsWxmi",
        "colab": {
          "base_uri": "https://localhost:8080/"
        },
        "outputId": "cbdafca4-4ad5-408d-a2e1-215a24bc49ec"
      },
      "outputs": [
        {
          "name": "stdout",
          "output_type": "stream",
          "text": [
            "Berapa porsi makan yang Anda beli? :  5\n",
            "Siapa Nama Pelanggan ? : agung\n"
          ]
        }
      ],
      "source": [
        "# Fungsi untuk menerima input dengan tipe data float\n",
        "total = float(input(\"Berapa porsi makan yang Anda beli? :  \"))\n",
        "Nama = str(input(\"Siapa Nama Pelanggan ? : \"))"
      ]
    }
  ]
}
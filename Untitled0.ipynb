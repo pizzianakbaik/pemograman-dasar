{
  "nbformat": 4,
  "nbformat_minor": 0,
  "metadata": {
    "colab": {
      "provenance": [],
      "authorship_tag": "ABX9TyO5+G4svbkFOgoRA3S+818Z",
      "include_colab_link": true
    },
    "kernelspec": {
      "name": "python3",
      "display_name": "Python 3"
    },
    "language_info": {
      "name": "python"
    }
  },
  "cells": [
    {
      "cell_type": "markdown",
      "metadata": {
        "id": "view-in-github",
        "colab_type": "text"
      },
      "source": [
        "<a href=\"https://colab.research.google.com/github/pizzianakbaik/pemograman-dasar/blob/main/Untitled0.ipynb\" target=\"_parent\"><img src=\"https://colab.research.google.com/assets/colab-badge.svg\" alt=\"Open In Colab\"/></a>"
      ]
    },
    {
      "cell_type": "markdown",
      "source": [
        ":\n",
        "\n",
        "> Add blockquote\n",
        "\n"
      ],
      "metadata": {
        "id": "fOq3zxXaGxFW"
      }
    },
    {
      "cell_type": "code",
      "source": [
        "nama = \"pizzi harmawan\"\n",
        "nim = 4232401004\n",
        "tempat_tanggal_lahir = \"karimun,27-juni-2006\"\n",
        "umur = 19\n",
        "jurusan = \"teknik elektro\"\n",
        "prodi = 'rpe'\n",
        "nama_kampus =\"politeknik negeri batam\"\n",
        "semester =3\n",
        "matakuliah = 'pemerograman dasar'\n",
        "profesi = \"mahasiswa\"\n",
        "status_lulus = False\n",
        "instagram = \"@pizzihrmwn\"\n",
        "\n",
        "\n",
        "print (nama)\n",
        "print (nim)\n",
        "print (tempat_tanggal_lahir)\n",
        "print (umur)\n",
        "print (jurusan)\n",
        "print (prodi)\n",
        "print (nama_kampus)\n",
        "print (semester)\n",
        "print (matakuliah)\n",
        "print (profesi)\n",
        "print (status_lulus)\n",
        "print (instagram)"
      ],
      "metadata": {
        "colab": {
          "base_uri": "https://localhost:8080/"
        },
        "id": "-8GtE4QkJTtS",
        "outputId": "28cd58af-6e4d-4f6d-9369-ca51632d0cf8"
      },
      "execution_count": 7,
      "outputs": [
        {
          "output_type": "stream",
          "name": "stdout",
          "text": [
            "pizzi harmawan\n",
            "4232401004\n",
            "karimun,27-juni-2006\n",
            "19\n",
            "teknik elektro\n",
            "rpe\n",
            "politeknik negeri batam\n",
            "3\n",
            "pemerograman dasar\n",
            "mahasiswa\n",
            "False\n",
            "@pizzihrmwn\n"
          ]
        }
      ]
    }
  ]
}
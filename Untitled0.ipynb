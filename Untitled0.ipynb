{
  "nbformat": 4,
  "nbformat_minor": 0,
  "metadata": {
    "colab": {
      "provenance": [],
      "authorship_tag": "ABX9TyO15nsuQ2dTC22RwL2Gl3Mk",
      "include_colab_link": true
    },
    "kernelspec": {
      "name": "python3",
      "display_name": "Python 3"
    },
    "language_info": {
      "name": "python"
    }
  },
  "cells": [
    {
      "cell_type": "markdown",
      "metadata": {
        "id": "view-in-github",
        "colab_type": "text"
      },
      "source": [
        "<a href=\"https://colab.research.google.com/github/pizzianakbaik/pemograman-dasar/blob/main/Untitled0.ipynb\" target=\"_parent\"><img src=\"https://colab.research.google.com/assets/colab-badge.svg\" alt=\"Open In Colab\"/></a>"
      ]
    },
    {
      "cell_type": "code",
      "execution_count": 71,
      "metadata": {
        "colab": {
          "base_uri": "https://localhost:8080/"
        },
        "id": "ICzVa4dWeVas",
        "outputId": "2b712a6f-28c7-410f-8ac1-6d36165ff7d5"
      },
      "outputs": [
        {
          "output_type": "stream",
          "name": "stdout",
          "text": [
            "Berapa porsi makan yang Anda beli? : 3\n",
            "Siapa Nama Pelanggan ? : pizzi\n",
            "Nama Pelanggan : pizzi\n",
            "Total Porsi    : 3.0\n"
          ]
        }
      ],
      "source": [
        "# INPUT NOUTPUT 1\n",
        "# Program untuk menerima input dengan tipe data float\n",
        "\n",
        "total = float (input(\"Berapa porsi makan yang Anda beli? : \"))\n",
        "Nama  = str (input(\"Siapa Nama Pelanggan ? : \"))\n",
        "\n",
        "print(\"Nama Pelanggan :\", Nama)\n",
        "print(\"Total Porsi    :\", total)\n"
      ]
    },
    {
      "cell_type": "code",
      "source": [
        "tugas = 80\n",
        "uts = 70\n",
        "uas = 90\n",
        "nilai_akhir = 75\n",
        "print(\"tugas = 80\")\n",
        "print(\"uts = 70\")\n",
        "print(\"uas = 90\")\n",
        "print(\"Nilai_Akhir = 75\")\n",
        "\n",
        "\n",
        "# input standar kelulusan\n",
        "nilai_mahasiswa = 20\n",
        "standar_kelulusan =100\n",
        "apakah_lulus = nilai_mahasiswa >= standar_kelulusan\n",
        "perlu_remedial = nilai_mahasiswa < standar_kelulusan\n",
        "\n",
        "# output\n",
        "print(\"\\n===== HASIL NILAI MAHASISWA =====\")\n",
        "print(\"Nilai Mahasiswa : {nilai_mahasiswa:}\")\n",
        "print(\"Standar Kelulusan     : {standar_kelulusan}\")\n",
        "print(\"Apakah Mahasiswa Lulus? {apakah_lulus}\")\n",
        "print(\"Perlu Remedial?        {perlu_remedial}\")\n"
      ],
      "metadata": {
        "colab": {
          "base_uri": "https://localhost:8080/"
        },
        "id": "CG5JlOYRx9ya",
        "outputId": "3c91dcfc-7553-4d1c-8a73-f5494cfa376b"
      },
      "execution_count": 95,
      "outputs": [
        {
          "output_type": "stream",
          "name": "stdout",
          "text": [
            "tugas = 80\n",
            "uts = 70\n",
            "uas = 90\n",
            "Nilai_Akhir = 75\n",
            "\n",
            "===== HASIL NILAI MAHASISWA =====\n",
            "Nilai Mahasiswa : {nilai_mahasiswa:}\n",
            "Standar Kelulusan     : {standar_kelulusan}\n",
            "Apakah Mahasiswa Lulus? {apakah_lulus}\n",
            "Perlu Remedial?        {perlu_remedial}\n"
          ]
        }
      ]
    },
    {
      "cell_type": "code",
      "source": [],
      "metadata": {
        "id": "vFk8tjLI6Rgb"
      },
      "execution_count": null,
      "outputs": []
    },
    {
      "cell_type": "code",
      "source": [
        "# INPUT OUTPUT 2\n",
        "# Contoh penggunaan operator format output\n",
        "\n",
        "nama   = \"pizzi\"\n",
        "usia   = 19         # integer\n",
        "tinggi = 165      # float\n",
        "lahir = 2006        # integer untuk contoh hex & octal\n",
        "\n",
        "# Menggunakan operator format\n",
        "print(\"Nama saya %s\" % (nama))          # %s untuk string\n",
        "print(\"Usia saya %d tahun\" % (usia))    # %d untuk integer\n",
        "print(\"Tinggi badan saya %f cm\" % (tinggi))   # %f untuk float\n",
        "print(\"lahir %d dalam heksadesimal = %x\" % (lahir, lahir))  # %x untuk hex\n",
        "print(\"lahir %d dalam oktal = %o\" % (lahir, lahir))         # %o untuk octal\n"
      ],
      "metadata": {
        "colab": {
          "base_uri": "https://localhost:8080/"
        },
        "id": "nUDzbhlrlck6",
        "outputId": "ad845179-4ba3-4c0e-a1b9-9bcbd4ed580d"
      },
      "execution_count": 96,
      "outputs": [
        {
          "output_type": "stream",
          "name": "stdout",
          "text": [
            "Nama saya pizzi\n",
            "Usia saya 19 tahun\n",
            "Tinggi badan saya 165.000000 cm\n",
            "lahir 2006 dalam heksadesimal = 7d6\n",
            "lahir 2006 dalam oktal = 3726\n"
          ]
        }
      ]
    },
    {
      "cell_type": "code",
      "source": [
        "# ekpresi 1\n",
        "# konversi waktu\n",
        "total_detik = 358200\n",
        "jam = total_detik // 3600\n",
        "sisa_detik = total_detik % 3600\n",
        "menit = sisa_detik // 60\n",
        "detik = sisa_detik % 60\n",
        "print(f\"Hasil Konversi: {jam} Jam, {menit} Menit, {detik} Detik\")\n"
      ],
      "metadata": {
        "colab": {
          "base_uri": "https://localhost:8080/"
        },
        "id": "csmcZj-Xs0m6",
        "outputId": "6873de87-8df6-4672-89f3-bcff79361371"
      },
      "execution_count": 54,
      "outputs": [
        {
          "output_type": "stream",
          "name": "stdout",
          "text": [
            "Hasil Konversi: 99 Jam, 30 Menit, 0 Detik\n"
          ]
        }
      ]
    },
    {
      "cell_type": "code",
      "source": [
        "# Program Menghitung Total Harga dengan Diskon\n",
        "\n",
        "# input belanja via keyboard\n",
        "belanja = float(input(\"Masukkan total belanja: \"))\n",
        "\n",
        "# logika diskon\n",
        "if belanja > 1000000:\n",
        "    diskon = 0.35 * belanja\n",
        "elif belanja > 500000:\n",
        "    diskon = 0.10 * belanja\n",
        "else:\n",
        "    diskon = 0\n",
        "\n",
        "# hitung total harga\n",
        "total_harga = belanja - diskon\n",
        "\n",
        "# output\n",
        "print(f\"Total belanja : {belanja}\")\n",
        "print(f\"Diskon        : {diskon}\")\n",
        "print(f\"Total harga setelah diskon = {total_harga}\")\n"
      ],
      "metadata": {
        "colab": {
          "base_uri": "https://localhost:8080/"
        },
        "id": "PXJFhq_ooyUj",
        "outputId": "55b00343-46e4-4c16-e703-c42434da7716"
      },
      "execution_count": 97,
      "outputs": [
        {
          "output_type": "stream",
          "name": "stdout",
          "text": [
            "Masukkan total belanja: 850000\n",
            "Total belanja : 850000.0\n",
            "Diskon        : 85000.0\n",
            "Total harga setelah diskon = 765000.0\n"
          ]
        }
      ]
    },
    {
      "cell_type": "code",
      "source": [],
      "metadata": {
        "id": "LqwujlBn7C6Z"
      },
      "execution_count": null,
      "outputs": []
    },
    {
      "cell_type": "code",
      "source": [],
      "metadata": {
        "id": "bc2yTSaY66dC"
      },
      "execution_count": null,
      "outputs": []
    }
  ]
}